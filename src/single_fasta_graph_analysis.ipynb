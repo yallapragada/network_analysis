{
 "cells": [
  {
   "cell_type": "code",
   "execution_count": 1,
   "metadata": {
    "collapsed": false
   },
   "outputs": [],
   "source": [
    "%matplotlib inline"
   ]
  },
  {
   "cell_type": "code",
   "execution_count": 2,
   "metadata": {
    "collapsed": false
   },
   "outputs": [],
   "source": [
    "import networkx as nx\n",
    "import matplotlib.pyplot as plt\n",
    "from Bio import AlignIO\n",
    "from Bio import SeqIO\n",
    "from minepy import MINE\n",
    "from numpy import array, transpose, var\n",
    "from scipy.stats import mode\n",
    "from pandas import DataFrame"
   ]
  },
  {
   "cell_type": "markdown",
   "metadata": {},
   "source": [
    "## read fasta file and create an alignment"
   ]
  },
  {
   "cell_type": "code",
   "execution_count": 3,
   "metadata": {
    "collapsed": true
   },
   "outputs": [],
   "source": [
    "filename = 'C:\\\\Users\\\\uday\\\\pycharm_projects\\\\network_analysis\\\\data\\\\ad_res_os_sen_HA_aligned.fasta'\n",
    "alignment = AlignIO.read(filename, 'fasta')"
   ]
  },
  {
   "cell_type": "code",
   "execution_count": 4,
   "metadata": {
    "collapsed": false
   },
   "outputs": [],
   "source": [
    "sequences = [x.seq for x in alignment]"
   ]
  },
  {
   "cell_type": "code",
   "execution_count": 5,
   "metadata": {
    "collapsed": false
   },
   "outputs": [
    {
     "name": "stderr",
     "output_type": "stream",
     "text": [
      "C:\\apps\\anaconda3\\lib\\site-packages\\scipy\\stats\\stats.py:257: RuntimeWarning: The input array could not be properly checked for nan values. nan values will be ignored.\n",
      "  \"values. nan values will be ignored.\", RuntimeWarning)\n"
     ]
    }
   ],
   "source": [
    "mod = [mode(x)[0][0] for x in transpose(array([list(z) for z in sequences]))]\n",
    "consensus_sequence=''.join(mod)"
   ]
  },
  {
   "cell_type": "code",
   "execution_count": 6,
   "metadata": {
    "collapsed": false
   },
   "outputs": [],
   "source": [
    "def conver_all_to_123(sequences):\n",
    "    mod = [mode(x)[0][0] for x in transpose(array([list(z) for z in sequences]))]\n",
    "    consensus_sequence = ''.join(mod)\n",
    "    sequences_123 = [convert_to_123(sequence, consensus_sequence) for sequence in sequences]\n",
    "    #sequences_123 = [list(sequence_123) for sequence_123 in sequences_123_array]\n",
    "    return sequences_123\n",
    "\n",
    "def convert_to_123(sequence, consensus_sequence):\n",
    "    new_sequence = [change_to_123(sequence[i], consensus_sequence[i]) for i in range(len(sequence))]\n",
    "    return new_sequence\n",
    "\n",
    "def change_to_123(residue, consensus_residue):\n",
    "    if (residue == consensus_residue):\n",
    "        return 0\n",
    "\n",
    "    # initialize Transformed residue values to unknown to begin with\n",
    "    residueT = 'U'\n",
    "    consensus_residueT = 'U'\n",
    "\n",
    "    types = {'X': ['R', 'K', 'D', 'E', 'P', 'N'],  ## surface\n",
    "             'Y': ['Q', 'H', 'S', 'T', 'G'],  ## neutral\n",
    "             'Z': ['A', 'I', 'L', 'F', 'V', 'Y', 'C', 'M', 'W']}  ## buried\n",
    "\n",
    "    for t in types.keys():\n",
    "        if residue in types[t]:\n",
    "            residueT = t\n",
    "        if consensus_residue in types[t]:\n",
    "            consensus_residueT = t\n",
    "\n",
    "    if (residueT == 'U'):\n",
    "        return 0\n",
    "\n",
    "    if (residueT == consensus_residueT):\n",
    "        return 1\n",
    "    else:\n",
    "        if (residueT == 'Y' or consensus_residueT == 'Y'):\n",
    "            return 2\n",
    "        else:\n",
    "            return 3"
   ]
  },
  {
   "cell_type": "code",
   "execution_count": 7,
   "metadata": {
    "collapsed": false
   },
   "outputs": [
    {
     "name": "stdout",
     "output_type": "stream",
     "text": [
      "304 566\n"
     ]
    },
    {
     "name": "stderr",
     "output_type": "stream",
     "text": [
      "C:\\apps\\anaconda3\\lib\\site-packages\\scipy\\stats\\stats.py:257: RuntimeWarning: The input array could not be properly checked for nan values. nan values will be ignored.\n",
      "  \"values. nan values will be ignored.\", RuntimeWarning)\n"
     ]
    }
   ],
   "source": [
    "sequences123 = conver_all_to_123(sequences)\n",
    "print(len(sequences123), len(sequences123[0]))"
   ]
  },
  {
   "cell_type": "code",
   "execution_count": 10,
   "metadata": {
    "collapsed": true
   },
   "outputs": [],
   "source": [
    "index_map = {}\n",
    "def remove_zeros(data):\n",
    "    dataT = transpose(data)\n",
    "    print(dataT.shape)\n",
    "    indices = [index for index, x in enumerate(dataT) if var(x) != 0]\n",
    "    for i, index in enumerate(indices):\n",
    "        index_map[i] = index\n",
    "    data_trimmed = transpose(array([x for x in dataT if var(x) != 0]))\n",
    "    return data_trimmed"
   ]
  },
  {
   "cell_type": "code",
   "execution_count": 11,
   "metadata": {
    "collapsed": false
   },
   "outputs": [
    {
     "name": "stdout",
     "output_type": "stream",
     "text": [
      "(566, 304)\n",
      "304 159\n"
     ]
    }
   ],
   "source": [
    "sequences123 = remove_zeros(sequences123)\n",
    "print(len(sequences123), len(sequences123[0]))"
   ]
  },
  {
   "cell_type": "code",
   "execution_count": 12,
   "metadata": {
    "collapsed": false
   },
   "outputs": [
    {
     "name": "stdout",
     "output_type": "stream",
     "text": [
      "159 304\n"
     ]
    }
   ],
   "source": [
    "transposed_list = transpose(sequences123)\n",
    "print(len(transposed_list), len(transposed_list[0]))"
   ]
  },
  {
   "cell_type": "code",
   "execution_count": 20,
   "metadata": {
    "collapsed": true
   },
   "outputs": [],
   "source": [
    "def performMIC(transposed_list):\n",
    "    mic_scores=[]\n",
    "    for counter1 in range(0, len(transposed_list)-1):\n",
    "        for counter2 in range(counter1+1, len(transposed_list)):\n",
    "            mine = MINE(alpha=0.6, c=15)\n",
    "            mine.compute_score(transposed_list[counter1], transposed_list[counter2])\n",
    "            if (mine.mic()>0.2):\n",
    "                mic_score={}\n",
    "                mic_score['x']=counter1\n",
    "                mic_score['y']=counter2\n",
    "                mic_score['mic']=mine.mic()\n",
    "                mic_scores.append(mic_score)\n",
    "    return mic_scores"
   ]
  },
  {
   "cell_type": "code",
   "execution_count": 21,
   "metadata": {
    "collapsed": true
   },
   "outputs": [],
   "source": [
    "mic_scores=performMIC(transposed_list)"
   ]
  },
  {
   "cell_type": "code",
   "execution_count": 22,
   "metadata": {
    "collapsed": true
   },
   "outputs": [],
   "source": [
    "def createDFFromDict(dictionary):\n",
    "    return DataFrame(dictionary)"
   ]
  },
  {
   "cell_type": "code",
   "execution_count": 23,
   "metadata": {
    "collapsed": false
   },
   "outputs": [
    {
     "name": "stdout",
     "output_type": "stream",
     "text": [
      "        mic  x  y\n",
      "0  0.254821  1  2\n",
      "1  0.237725  1  3\n",
      "2  0.254821  1  5\n",
      "3  0.204349  1  6\n",
      "4  0.254821  1  7\n"
     ]
    }
   ],
   "source": [
    "micDF=createDFFromDict(mic_scores)\n",
    "print(micDF.head(5))"
   ]
  },
  {
   "cell_type": "code",
   "execution_count": 32,
   "metadata": {
    "collapsed": true
   },
   "outputs": [],
   "source": [
    "def createGraph(dataframe):\n",
    "    G = nx.from_pandas_dataframe(dataframe, 'x', 'y', 'mic')\n",
    "    \n",
    "    node_names = {}\n",
    "    #convert 1.0, 2.0.. to 1, 2 for node names\n",
    "    for i, node in enumerate(G.nodes()):\n",
    "        node_names[node]=str(int(node))\n",
    "    G = nx.relabel_nodes(G, node_names)\n",
    "    \n",
    "    print(nx.info(G))\n",
    "    return G"
   ]
  },
  {
   "cell_type": "code",
   "execution_count": 33,
   "metadata": {
    "collapsed": false
   },
   "outputs": [
    {
     "name": "stdout",
     "output_type": "stream",
     "text": [
      "Name: ()\n",
      "Type: Graph\n",
      "Number of nodes: 115\n",
      "Number of edges: 6319\n",
      "Average degree: 109.8957\n"
     ]
    }
   ],
   "source": [
    "G = createGraph(micDF)"
   ]
  },
  {
   "cell_type": "code",
   "execution_count": 49,
   "metadata": {
    "collapsed": false
   },
   "outputs": [
    {
     "name": "stdout",
     "output_type": "stream",
     "text": [
      "['78', '97', '106', '116', '28', '135', '64', '54', '71', '82']\n"
     ]
    }
   ],
   "source": [
    "print(G.nodes()[:10])"
   ]
  },
  {
   "cell_type": "code",
   "execution_count": 51,
   "metadata": {
    "collapsed": false
   },
   "outputs": [
    {
     "name": "stdout",
     "output_type": "stream",
     "text": [
      "78 112\n",
      "97 112\n",
      "106 112\n",
      "116 112\n",
      "28 112\n",
      "135 112\n",
      "64 112\n",
      "54 112\n",
      "71 112\n",
      "82 112\n"
     ]
    }
   ],
   "source": [
    "for i, node in enumerate(G.nodes()):\n",
    "    if (i<10):\n",
    "        print(node, len(G.edges([node])))"
   ]
  },
  {
   "cell_type": "code",
   "execution_count": 34,
   "metadata": {
    "collapsed": true
   },
   "outputs": [],
   "source": [
    "def drawGraph(G, graph_layout='shell'):\n",
    "    graph_pos = nx.shell_layout(G)\n",
    "    nx.draw_networkx(G, graph_pos)\n",
    "    plt.axis('off')\n",
    "    plt.show()"
   ]
  },
  {
   "cell_type": "code",
   "execution_count": 35,
   "metadata": {
    "collapsed": false
   },
   "outputs": [
    {
     "data": {
      "image/png": "[encoded data removed]",
      "text/plain": [
       "<matplotlib.figure.Figure at 0x1ce5a10>"
      ]
     },
     "metadata": {},
     "output_type": "display_data"
    }
   ],
   "source": [
    "drawGraph(G)"
   ]
  },
  {
   "cell_type": "code",
   "execution_count": 36,
   "metadata": {
    "collapsed": false
   },
   "outputs": [
    {
     "data": {
      "image/png": "[encoded data removed]",
      "text/plain": [
       "<matplotlib.figure.Figure at 0x6010c30>"
      ]
     },
     "metadata": {},
     "output_type": "display_data"
    }
   ],
   "source": [
    "degree_sequence=sorted(nx.degree(G).values(),reverse=True) # degree sequence\n",
    "\n",
    "plt.loglog(degree_sequence,'b-',marker='.')\n",
    "plt.title(\"Degree rank plot\")\n",
    "plt.ylabel(\"degree\")\n",
    "plt.xlabel(\"rank\")\n",
    "\n",
    "plt.show()"
   ]
  },
  {
   "cell_type": "code",
   "execution_count": 37,
   "metadata": {
    "collapsed": false
   },
   "outputs": [
    {
     "name": "stdout",
     "output_type": "stream",
     "text": [
      "[112, 112, 112, 112, 112, 112, 112, 112, 112, 112, 112, 112, 112, 112, 112, 112, 112, 112, 112, 112]\n"
     ]
    }
   ],
   "source": [
    "print(sorted(nx.degree(G).values())[-20:])"
   ]
  },
  {
   "cell_type": "code",
   "execution_count": 38,
   "metadata": {
    "collapsed": false
   },
   "outputs": [
    {
     "name": "stdout",
     "output_type": "stream",
     "text": [
      "Clustering: 0.98113\n"
     ]
    }
   ],
   "source": [
    "print(\"Clustering: %0.5f\" % nx.average_clustering(G))"
   ]
  },
  {
   "cell_type": "code",
   "execution_count": 39,
   "metadata": {
    "collapsed": false
   },
   "outputs": [
    {
     "name": "stdout",
     "output_type": "stream",
     "text": [
      "Transitivity: 0.99849\n"
     ]
    }
   ],
   "source": [
    "print(\"Transitivity: %0.5f\" % nx.transitivity(G))"
   ]
  },
  {
   "cell_type": "code",
   "execution_count": 40,
   "metadata": {
    "collapsed": false
   },
   "outputs": [
    {
     "name": "stdout",
     "output_type": "stream",
     "text": [
      "1.0015802781289507\n"
     ]
    }
   ],
   "source": [
    "hairball = nx.subgraph(G, [x for x in nx.connected_components(G)][0])\n",
    "print(nx.average_shortest_path_length(hairball))"
   ]
  },
  {
   "cell_type": "code",
   "execution_count": 43,
   "metadata": {
    "collapsed": false
   },
   "outputs": [],
   "source": [
    "from operator import itemgetter"
   ]
  },
  {
   "cell_type": "code",
   "execution_count": 44,
   "metadata": {
    "collapsed": true
   },
   "outputs": [],
   "source": [
    "def nbest_centrality(graph, metric, n=10, attribute=\"centrality\", **kwargs):\n",
    "    centrality = metric(graph, **kwargs)\n",
    "    nx.set_node_attributes(graph, attribute, centrality)\n",
    "    degrees = sorted(centrality.items(), key=itemgetter(1), reverse=True)\n",
    "    \n",
    "    for idx, item in enumerate(degrees[0:n]):\n",
    "        item = (idx+1,) + item\n",
    "        print(\"%i. %s: %0.4f\" % item)\n",
    "    \n",
    "    return degrees"
   ]
  },
  {
   "cell_type": "code",
   "execution_count": 45,
   "metadata": {
    "collapsed": false
   },
   "outputs": [
    {
     "name": "stdout",
     "output_type": "stream",
     "text": [
      "1. 43: 0.9825\n",
      "2. 93: 0.9825\n",
      "3. 35: 0.9825\n",
      "4. 78: 0.9825\n",
      "5. 97: 0.9825\n",
      "6. 106: 0.9825\n",
      "7. 26: 0.9825\n",
      "8. 91: 0.9825\n",
      "9. 8: 0.9825\n",
      "10. 16: 0.9825\n",
      "11. 112: 0.9825\n",
      "12. 143: 0.9825\n",
      "13. 70: 0.9825\n",
      "14. 135: 0.9825\n",
      "15. 17: 0.9825\n"
     ]
    }
   ],
   "source": [
    "degrees = nbest_centrality(G, nx.degree_centrality, n=15)"
   ]
  },
  {
   "cell_type": "code",
   "execution_count": 46,
   "metadata": {
    "collapsed": false
   },
   "outputs": [
    {
     "name": "stdout",
     "output_type": "stream",
     "text": [
      "1. 43: 0.0000\n",
      "2. 93: 0.0000\n",
      "3. 92: 0.0000\n",
      "4. 35: 0.0000\n",
      "5. 78: 0.0000\n",
      "6. 97: 0.0000\n",
      "7. 106: 0.0000\n",
      "8. 28: 0.0000\n",
      "9. 91: 0.0000\n",
      "10. 8: 0.0000\n",
      "11. 16: 0.0000\n",
      "12. 112: 0.0000\n",
      "13. 143: 0.0000\n",
      "14. 70: 0.0000\n",
      "15. 135: 0.0000\n"
     ]
    }
   ],
   "source": [
    "degrees = nbest_centrality(G, nx.betweenness_centrality, n=15)"
   ]
  },
  {
   "cell_type": "code",
   "execution_count": 53,
   "metadata": {
    "collapsed": false
   },
   "outputs": [
    {
     "name": "stdout",
     "output_type": "stream",
     "text": [
      "1. 43: 0.0942\n",
      "2. 93: 0.0942\n",
      "3. 35: 0.0942\n",
      "4. 78: 0.0942\n",
      "5. 97: 0.0942\n",
      "6. 106: 0.0942\n",
      "7. 116: 0.0942\n",
      "8. 28: 0.0942\n",
      "9. 8: 0.0942\n",
      "10. 16: 0.0942\n",
      "11. 112: 0.0942\n",
      "12. 143: 0.0942\n",
      "13. 118: 0.0942\n",
      "14. 135: 0.0942\n",
      "15. 17: 0.0942\n"
     ]
    }
   ],
   "source": [
    "degrees = nbest_centrality(G, nx.eigenvector_centrality, n=15)"
   ]
  },
  {
   "cell_type": "code",
   "execution_count": 54,
   "metadata": {
    "collapsed": false
   },
   "outputs": [
    {
     "name": "stdout",
     "output_type": "stream",
     "text": [
      "1. 43: 0.9825\n",
      "2. 93: 0.9825\n",
      "3. 92: 0.9825\n",
      "4. 35: 0.9825\n",
      "5. 78: 0.9825\n",
      "6. 97: 0.9825\n",
      "7. 106: 0.9825\n",
      "8. 28: 0.9825\n",
      "9. 91: 0.9825\n",
      "10. 8: 0.9825\n",
      "11. 16: 0.9825\n",
      "12. 112: 0.9825\n",
      "13. 143: 0.9825\n",
      "14. 70: 0.9825\n",
      "15. 135: 0.9825\n"
     ]
    }
   ],
   "source": [
    "degrees = nbest_centrality(G, nx.closeness_centrality, n=15)"
   ]
  }
 ],
 "metadata": {
  "anaconda-cloud": {},
  "kernelspec": {
   "display_name": "Python [Root]",
   "language": "python",
   "name": "Python [Root]"
  },
  "language_info": {
   "codemirror_mode": {
    "name": "ipython",
    "version": 3
   },
   "file_extension": ".py",
   "mimetype": "text/x-python",
   "name": "python",
   "nbconvert_exporter": "python",
   "pygments_lexer": "ipython3",
   "version": "3.5.2"
  }
 },
 "nbformat": 4,
 "nbformat_minor": 0
}
